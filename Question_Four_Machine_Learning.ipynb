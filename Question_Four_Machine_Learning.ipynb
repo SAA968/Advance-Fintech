{
 "cells": [
  {
   "cell_type": "code",
   "execution_count": 22,
   "metadata": {},
   "outputs": [
    {
     "name": "stdout",
     "output_type": "stream",
     "text": [
      "Requirement already satisfied: quandl in /Users/sailuadhikari/opt/anaconda3/lib/python3.8/site-packages (3.7.0)\n",
      "Requirement already satisfied: pandas>=0.14 in /Users/sailuadhikari/opt/anaconda3/lib/python3.8/site-packages (from quandl) (1.4.2)\n",
      "Requirement already satisfied: python-dateutil in /Users/sailuadhikari/opt/anaconda3/lib/python3.8/site-packages (from quandl) (2.8.2)\n",
      "Requirement already satisfied: inflection>=0.3.1 in /Users/sailuadhikari/opt/anaconda3/lib/python3.8/site-packages (from quandl) (0.5.1)\n",
      "Requirement already satisfied: numpy>=1.8 in /Users/sailuadhikari/opt/anaconda3/lib/python3.8/site-packages (from quandl) (1.21.5)\n",
      "Requirement already satisfied: more-itertools in /Users/sailuadhikari/opt/anaconda3/lib/python3.8/site-packages (from quandl) (8.13.0)\n",
      "Requirement already satisfied: six in /Users/sailuadhikari/opt/anaconda3/lib/python3.8/site-packages (from quandl) (1.16.0)\n",
      "Requirement already satisfied: requests>=2.7.0 in /Users/sailuadhikari/opt/anaconda3/lib/python3.8/site-packages (from quandl) (2.27.1)\n",
      "Requirement already satisfied: pytz>=2020.1 in /Users/sailuadhikari/opt/anaconda3/lib/python3.8/site-packages (from pandas>=0.14->quandl) (2021.3)\n",
      "Requirement already satisfied: urllib3<1.27,>=1.21.1 in /Users/sailuadhikari/opt/anaconda3/lib/python3.8/site-packages (from requests>=2.7.0->quandl) (1.26.9)\n",
      "Requirement already satisfied: idna<4,>=2.5 in /Users/sailuadhikari/opt/anaconda3/lib/python3.8/site-packages (from requests>=2.7.0->quandl) (3.3)\n",
      "Requirement already satisfied: charset-normalizer~=2.0.0 in /Users/sailuadhikari/opt/anaconda3/lib/python3.8/site-packages (from requests>=2.7.0->quandl) (2.0.4)\n",
      "Requirement already satisfied: certifi>=2017.4.17 in /Users/sailuadhikari/opt/anaconda3/lib/python3.8/site-packages (from requests>=2.7.0->quandl) (2021.10.8)\n",
      "Note: you may need to restart the kernel to use updated packages.\n"
     ]
    }
   ],
   "source": [
    "pip install quandl"
   ]
  },
  {
   "cell_type": "code",
   "execution_count": 73,
   "metadata": {},
   "outputs": [],
   "source": [
    "import pandas as pd\n",
    "import numpy as np\n",
    "from sklearn.linear_model import ElasticNet\n",
    "from sklearn.model_selection import train_test_split"
   ]
  },
  {
   "cell_type": "code",
   "execution_count": 74,
   "metadata": {},
   "outputs": [],
   "source": [
    "import quandl"
   ]
  },
  {
   "cell_type": "markdown",
   "metadata": {},
   "source": [
    "I have picked the Microsoft time series for forecasting. As a pioneer in operating systems and a software giant, I am interested in understanding the company's stock performance. \n",
    "\n",
    "Microsoft cloud computing now has a solid market share globally. The company stock accelerated after 2016. In 2014, Microsoft hired a visionary CEO, Satya Nadella, which significantly impacted the rise in stock price. Several internal and economic factors affect the stock price. The line graph of Microsoft depicts that the share price declined sharply during the 2008 crisis till the end of 2009. \n",
    "\n",
    "Various factors affect the stock price;\n",
    "Anticipated takeover or merger, securing large contracts, bad news about the company, company performance, big investments, etc. And some of the factors like company performance, big investments are controllable or it can be predicted with long term vision. \n",
    "\n",
    "The variables or factors that are impossible to obtain are the uncertain events that no one can predict, like the pandemic and war. "
   ]
  },
  {
   "cell_type": "code",
   "execution_count": 75,
   "metadata": {},
   "outputs": [
    {
     "data": {
      "text/html": [
       "<div>\n",
       "<style scoped>\n",
       "    .dataframe tbody tr th:only-of-type {\n",
       "        vertical-align: middle;\n",
       "    }\n",
       "\n",
       "    .dataframe tbody tr th {\n",
       "        vertical-align: top;\n",
       "    }\n",
       "\n",
       "    .dataframe thead th {\n",
       "        text-align: right;\n",
       "    }\n",
       "</style>\n",
       "<table border=\"1\" class=\"dataframe\">\n",
       "  <thead>\n",
       "    <tr style=\"text-align: right;\">\n",
       "      <th></th>\n",
       "      <th>Date</th>\n",
       "      <th>Open</th>\n",
       "      <th>High</th>\n",
       "      <th>Low</th>\n",
       "      <th>Close</th>\n",
       "      <th>Volume</th>\n",
       "      <th>Ex-Dividend</th>\n",
       "      <th>Split Ratio</th>\n",
       "      <th>Adj. Open</th>\n",
       "      <th>Adj. High</th>\n",
       "      <th>Adj. Low</th>\n",
       "      <th>Adj. Close</th>\n",
       "      <th>Adj. Volume</th>\n",
       "      <th>date</th>\n",
       "    </tr>\n",
       "  </thead>\n",
       "  <tbody>\n",
       "    <tr>\n",
       "      <th>0</th>\n",
       "      <td>2008-01-02</td>\n",
       "      <td>35.790</td>\n",
       "      <td>35.960</td>\n",
       "      <td>35.00</td>\n",
       "      <td>35.22</td>\n",
       "      <td>63004200.0</td>\n",
       "      <td>0.0</td>\n",
       "      <td>1.0</td>\n",
       "      <td>27.902659</td>\n",
       "      <td>28.035195</td>\n",
       "      <td>27.286758</td>\n",
       "      <td>27.458275</td>\n",
       "      <td>63004200.0</td>\n",
       "      <td>0</td>\n",
       "    </tr>\n",
       "    <tr>\n",
       "      <th>1</th>\n",
       "      <td>2008-01-03</td>\n",
       "      <td>35.220</td>\n",
       "      <td>35.650</td>\n",
       "      <td>34.86</td>\n",
       "      <td>35.37</td>\n",
       "      <td>49599600.0</td>\n",
       "      <td>0.0</td>\n",
       "      <td>1.0</td>\n",
       "      <td>27.458275</td>\n",
       "      <td>27.793512</td>\n",
       "      <td>27.177611</td>\n",
       "      <td>27.575218</td>\n",
       "      <td>49599600.0</td>\n",
       "      <td>1</td>\n",
       "    </tr>\n",
       "    <tr>\n",
       "      <th>2</th>\n",
       "      <td>2008-01-04</td>\n",
       "      <td>35.190</td>\n",
       "      <td>35.200</td>\n",
       "      <td>34.09</td>\n",
       "      <td>34.38</td>\n",
       "      <td>72090800.0</td>\n",
       "      <td>0.0</td>\n",
       "      <td>1.0</td>\n",
       "      <td>27.434886</td>\n",
       "      <td>27.442682</td>\n",
       "      <td>26.577302</td>\n",
       "      <td>26.803392</td>\n",
       "      <td>72090800.0</td>\n",
       "      <td>2</td>\n",
       "    </tr>\n",
       "    <tr>\n",
       "      <th>3</th>\n",
       "      <td>2008-01-07</td>\n",
       "      <td>34.550</td>\n",
       "      <td>34.800</td>\n",
       "      <td>34.25</td>\n",
       "      <td>34.61</td>\n",
       "      <td>80164300.0</td>\n",
       "      <td>0.0</td>\n",
       "      <td>1.0</td>\n",
       "      <td>26.935928</td>\n",
       "      <td>27.130833</td>\n",
       "      <td>26.702042</td>\n",
       "      <td>26.982705</td>\n",
       "      <td>80164300.0</td>\n",
       "      <td>3</td>\n",
       "    </tr>\n",
       "    <tr>\n",
       "      <th>4</th>\n",
       "      <td>2008-01-08</td>\n",
       "      <td>34.710</td>\n",
       "      <td>34.710</td>\n",
       "      <td>33.40</td>\n",
       "      <td>33.45</td>\n",
       "      <td>79148300.0</td>\n",
       "      <td>0.0</td>\n",
       "      <td>1.0</td>\n",
       "      <td>27.060667</td>\n",
       "      <td>27.060667</td>\n",
       "      <td>26.039363</td>\n",
       "      <td>26.078344</td>\n",
       "      <td>79148300.0</td>\n",
       "      <td>4</td>\n",
       "    </tr>\n",
       "    <tr>\n",
       "      <th>...</th>\n",
       "      <td>...</td>\n",
       "      <td>...</td>\n",
       "      <td>...</td>\n",
       "      <td>...</td>\n",
       "      <td>...</td>\n",
       "      <td>...</td>\n",
       "      <td>...</td>\n",
       "      <td>...</td>\n",
       "      <td>...</td>\n",
       "      <td>...</td>\n",
       "      <td>...</td>\n",
       "      <td>...</td>\n",
       "      <td>...</td>\n",
       "      <td>...</td>\n",
       "    </tr>\n",
       "    <tr>\n",
       "      <th>2571</th>\n",
       "      <td>2018-03-21</td>\n",
       "      <td>92.930</td>\n",
       "      <td>94.050</td>\n",
       "      <td>92.21</td>\n",
       "      <td>92.48</td>\n",
       "      <td>23753263.0</td>\n",
       "      <td>0.0</td>\n",
       "      <td>1.0</td>\n",
       "      <td>92.930000</td>\n",
       "      <td>94.050000</td>\n",
       "      <td>92.210000</td>\n",
       "      <td>92.480000</td>\n",
       "      <td>23753263.0</td>\n",
       "      <td>2571</td>\n",
       "    </tr>\n",
       "    <tr>\n",
       "      <th>2572</th>\n",
       "      <td>2018-03-22</td>\n",
       "      <td>91.265</td>\n",
       "      <td>91.750</td>\n",
       "      <td>89.66</td>\n",
       "      <td>89.79</td>\n",
       "      <td>37578166.0</td>\n",
       "      <td>0.0</td>\n",
       "      <td>1.0</td>\n",
       "      <td>91.265000</td>\n",
       "      <td>91.750000</td>\n",
       "      <td>89.660000</td>\n",
       "      <td>89.790000</td>\n",
       "      <td>37578166.0</td>\n",
       "      <td>2572</td>\n",
       "    </tr>\n",
       "    <tr>\n",
       "      <th>2573</th>\n",
       "      <td>2018-03-23</td>\n",
       "      <td>89.500</td>\n",
       "      <td>90.460</td>\n",
       "      <td>87.08</td>\n",
       "      <td>87.18</td>\n",
       "      <td>42159397.0</td>\n",
       "      <td>0.0</td>\n",
       "      <td>1.0</td>\n",
       "      <td>89.500000</td>\n",
       "      <td>90.460000</td>\n",
       "      <td>87.080000</td>\n",
       "      <td>87.180000</td>\n",
       "      <td>42159397.0</td>\n",
       "      <td>2573</td>\n",
       "    </tr>\n",
       "    <tr>\n",
       "      <th>2574</th>\n",
       "      <td>2018-03-26</td>\n",
       "      <td>90.610</td>\n",
       "      <td>94.000</td>\n",
       "      <td>90.40</td>\n",
       "      <td>93.78</td>\n",
       "      <td>55031149.0</td>\n",
       "      <td>0.0</td>\n",
       "      <td>1.0</td>\n",
       "      <td>90.610000</td>\n",
       "      <td>94.000000</td>\n",
       "      <td>90.400000</td>\n",
       "      <td>93.780000</td>\n",
       "      <td>55031149.0</td>\n",
       "      <td>2574</td>\n",
       "    </tr>\n",
       "    <tr>\n",
       "      <th>2575</th>\n",
       "      <td>2018-03-27</td>\n",
       "      <td>94.940</td>\n",
       "      <td>95.139</td>\n",
       "      <td>88.51</td>\n",
       "      <td>89.47</td>\n",
       "      <td>53704562.0</td>\n",
       "      <td>0.0</td>\n",
       "      <td>1.0</td>\n",
       "      <td>94.940000</td>\n",
       "      <td>95.139000</td>\n",
       "      <td>88.510000</td>\n",
       "      <td>89.470000</td>\n",
       "      <td>53704562.0</td>\n",
       "      <td>2575</td>\n",
       "    </tr>\n",
       "  </tbody>\n",
       "</table>\n",
       "<p>2576 rows × 14 columns</p>\n",
       "</div>"
      ],
      "text/plain": [
       "           Date    Open    High    Low  Close      Volume  Ex-Dividend  \\\n",
       "0    2008-01-02  35.790  35.960  35.00  35.22  63004200.0          0.0   \n",
       "1    2008-01-03  35.220  35.650  34.86  35.37  49599600.0          0.0   \n",
       "2    2008-01-04  35.190  35.200  34.09  34.38  72090800.0          0.0   \n",
       "3    2008-01-07  34.550  34.800  34.25  34.61  80164300.0          0.0   \n",
       "4    2008-01-08  34.710  34.710  33.40  33.45  79148300.0          0.0   \n",
       "...         ...     ...     ...    ...    ...         ...          ...   \n",
       "2571 2018-03-21  92.930  94.050  92.21  92.48  23753263.0          0.0   \n",
       "2572 2018-03-22  91.265  91.750  89.66  89.79  37578166.0          0.0   \n",
       "2573 2018-03-23  89.500  90.460  87.08  87.18  42159397.0          0.0   \n",
       "2574 2018-03-26  90.610  94.000  90.40  93.78  55031149.0          0.0   \n",
       "2575 2018-03-27  94.940  95.139  88.51  89.47  53704562.0          0.0   \n",
       "\n",
       "      Split Ratio  Adj. Open  Adj. High   Adj. Low  Adj. Close  Adj. Volume  \\\n",
       "0             1.0  27.902659  28.035195  27.286758   27.458275   63004200.0   \n",
       "1             1.0  27.458275  27.793512  27.177611   27.575218   49599600.0   \n",
       "2             1.0  27.434886  27.442682  26.577302   26.803392   72090800.0   \n",
       "3             1.0  26.935928  27.130833  26.702042   26.982705   80164300.0   \n",
       "4             1.0  27.060667  27.060667  26.039363   26.078344   79148300.0   \n",
       "...           ...        ...        ...        ...         ...          ...   \n",
       "2571          1.0  92.930000  94.050000  92.210000   92.480000   23753263.0   \n",
       "2572          1.0  91.265000  91.750000  89.660000   89.790000   37578166.0   \n",
       "2573          1.0  89.500000  90.460000  87.080000   87.180000   42159397.0   \n",
       "2574          1.0  90.610000  94.000000  90.400000   93.780000   55031149.0   \n",
       "2575          1.0  94.940000  95.139000  88.510000   89.470000   53704562.0   \n",
       "\n",
       "      date  \n",
       "0        0  \n",
       "1        1  \n",
       "2        2  \n",
       "3        3  \n",
       "4        4  \n",
       "...    ...  \n",
       "2571  2571  \n",
       "2572  2572  \n",
       "2573  2573  \n",
       "2574  2574  \n",
       "2575  2575  \n",
       "\n",
       "[2576 rows x 14 columns]"
      ]
     },
     "execution_count": 75,
     "metadata": {},
     "output_type": "execute_result"
    }
   ],
   "source": [
    "df_msft = quandl.get(\"WIKI/MSFT\",start_date='2008-01-01',end_date='2021-12-30')\n",
    "df_msft['date']=df_intel.index\n",
    "df_msft=df_msft.reset_index()\n",
    "df_msft"
   ]
  },
  {
   "cell_type": "code",
   "execution_count": 76,
   "metadata": {},
   "outputs": [],
   "source": [
    "import seaborn as sns"
   ]
  },
  {
   "cell_type": "code",
   "execution_count": 77,
   "metadata": {},
   "outputs": [
    {
     "data": {
      "text/plain": [
       "<AxesSubplot:xlabel='Date', ylabel='Close'>"
      ]
     },
     "execution_count": 77,
     "metadata": {},
     "output_type": "execute_result"
    },
    {
     "data": {
      "image/png": "[encoded data removed]",
      "text/plain": [
       "<Figure size 432x288 with 1 Axes>"
      ]
     },
     "metadata": {
      "needs_background": "light"
     },
     "output_type": "display_data"
    }
   ],
   "source": [
    "sns.lineplot(data=df_msft, x = 'Date', y='Close')"
   ]
  },
  {
   "cell_type": "code",
   "execution_count": 78,
   "metadata": {},
   "outputs": [],
   "source": [
    "def evaluate_models (df, period, l1_ratio, shuffle_method = 'linear'):\n",
    "    df_for_ml = df[['Date','Close']]\n",
    "#in the for loop below i am extracting 1 day to 'period'day return of the previous day for every row.\n",
    "    for i in range(1, period):\n",
    "        col_name = f'{i}_day_return'\n",
    "        df_for_ml = df_for_ml.copy()\n",
    "        df_for_ml[col_name] = df_for_ml['Close'].shift().pct_change(periods=i)\n",
    "        \n",
    "    finaldf = df_for_ml.dropna()\n",
    "    finaldf = finaldf.reset_index()\n",
    "\n",
    "#in the below conditional statements i am providing two options for splitting the data.\n",
    "    if shuffle_method == 'linear':\n",
    "    \n",
    "        train_size = round(0.8*finaldf['Close'].count())\n",
    "        train_set = finaldf.iloc[:int(train_size)]\n",
    "        test_set = finaldf.iloc[int(train_size):]\n",
    "        X_train = train_set.drop(columns=['index', 'Date', 'Close'])\n",
    "        y_train = train_set['Close']\n",
    "        X_test = test_set.drop(columns=['index', 'Date', 'Close'])\n",
    "        y_test = test_set['Close']\n",
    "    \n",
    "    if shuffle_method == 'random':\n",
    "        X_features = finaldf.drop(columns=['index', 'Date', 'Close'])\n",
    "        Y_feature = finaldf['Close']\n",
    "        X_train, X_test, y_train, y_test = train_test_split(\n",
    "        X_features, Y_feature, test_size=0.3, random_state=42)\n",
    "    \n",
    "#here i am using ElasticNet model from sickit learn.\n",
    "    regr = ElasticNet(l1_ratio=l1_ratio)\n",
    "    regr.fit(X_train, y_train)\n",
    "    train_score = regr.score(X_train, y_train)\n",
    "    test_score = regr.score(X_test, y_test)\n",
    "    return train_score, test_score\n",
    "    \n",
    "    \n",
    "        \n",
    "        \n",
    "        \n",
    "    \n",
    "    "
   ]
  },
  {
   "cell_type": "code",
   "execution_count": 79,
   "metadata": {},
   "outputs": [
    {
     "name": "stdout",
     "output_type": "stream",
     "text": [
      "Training score: 0.6389537891497572; Test score: -4.527397913285855\n"
     ]
    }
   ],
   "source": [
    "#here i am using linear splitting method. This method overfits \n",
    "train_score, test_score = evaluate_models(df_msft, period = 600, l1_ratio = 0.1, shuffle_method = 'linear')\n",
    "print (f'Training score: {train_score}; Test score: {test_score}')"
   ]
  },
  {
   "cell_type": "code",
   "execution_count": 80,
   "metadata": {},
   "outputs": [
    {
     "name": "stdout",
     "output_type": "stream",
     "text": [
      "Training score: 0.70208075457938; Test score: 0.7408152505687386\n"
     ]
    }
   ],
   "source": [
    "# random split provides a much better r2_score both on train and test set\n",
    "train_score, test_score = evaluate_models(df_msft, period = 600, l1_ratio = 0.1, shuffle_method = 'random')\n",
    "print (f'Training score: {train_score}; Test score: {test_score}')"
   ]
  },
  {
   "cell_type": "code",
   "execution_count": 81,
   "metadata": {},
   "outputs": [
    {
     "name": "stdout",
     "output_type": "stream",
     "text": [
      "Training score: 0.6751339679154332; Test score: 0.7016423471884842\n"
     ]
    }
   ],
   "source": [
    "# When L1 and L2 ratio is equal the train score is decreasing \n",
    "train_score, test_score = evaluate_models(df_intel, period = 600, l1_ratio = 0.5, shuffle_method = 'random')\n",
    "print (f'Training score: {train_score}; Test score: {test_score}')"
   ]
  },
  {
   "cell_type": "code",
   "execution_count": 82,
   "metadata": {},
   "outputs": [
    {
     "name": "stdout",
     "output_type": "stream",
     "text": [
      "Training score: 0.15158605157752092; Test score: 0.12983153547249304\n"
     ]
    }
   ],
   "source": [
    "# The short period decrease the score of both train and test set. So, larger the data better the prediction.\n",
    "train_score, test_score = evaluate_models(df_intel, period = 150, l1_ratio = 0.1, shuffle_method = 'random')\n",
    "print (f'Training score: {train_score}; Test score: {test_score}')"
   ]
  }
 ],
 "metadata": {
  "kernelspec": {
   "display_name": "Python 3 (ipykernel)",
   "language": "python",
   "name": "python3"
  },
  "language_info": {
   "codemirror_mode": {
    "name": "ipython",
    "version": 3
   },
   "file_extension": ".py",
   "mimetype": "text/x-python",
   "name": "python",
   "nbconvert_exporter": "python",
   "pygments_lexer": "ipython3",
   "version": "3.8.5"
  }
 },
 "nbformat": 4,
 "nbformat_minor": 4
}
